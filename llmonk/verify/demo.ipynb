{
 "cells": [
  {
   "cell_type": "markdown",
   "metadata": {},
   "source": [
    "### Set up the Huggingface Pipeline"
   ]
  },
  {
   "cell_type": "code",
   "execution_count": 1,
   "metadata": {},
   "outputs": [
    {
     "data": {
      "application/vnd.jupyter.widget-view+json": {
       "model_id": "dc3f87e7dca74089bb9cb76c061b6e0f",
       "version_major": 2,
       "version_minor": 0
      },
      "text/plain": [
       "Loading checkpoint shards:   0%|          | 0/7 [00:00<?, ?it/s]"
      ]
     },
     "metadata": {},
     "output_type": "display_data"
    }
   ],
   "source": [
    "import transformers\n",
    "import torch\n",
    "\n",
    "model_name = 'hbXNov/llama3.1-8b_train_gpt_4o_verifications_e3_lr5e-7-31389-merged'\n",
    "\n",
    "pipeline = transformers.pipeline(\n",
    "    \"text-generation\",\n",
    "    model=model_name,\n",
    "    model_kwargs={\"torch_dtype\": torch.bfloat16},\n",
    "    device_map=\"auto\",\n",
    ")"
   ]
  },
  {
   "cell_type": "markdown",
   "metadata": {},
   "source": [
    "### Prepare the input prompt"
   ]
  },
  {
   "cell_type": "code",
   "execution_count": 2,
   "metadata": {},
   "outputs": [],
   "source": [
    "# load the prompt template\n",
    "prompt_template_path = 'prompts/llama3.1_8b_instruct/finetuned.txt'\n",
    "\n",
    "with open(prompt_template_path, \"r\") as file:\n",
    "    prompt_template = file.read()\n",
    "\n",
    "# insert the problem and solution in the template\n",
    "question = \"If $a$ and $b$ are real numbers, $a^2b^3=\\\\frac{32}{27}$, and $\\\\frac{a}{b^3}=\\\\\\frac{27}{4}$, what is $a+b$?\"\n",
    "\n",
    "solution = \"We are given that\\n$a^2b^3=\\\\frac{32}{27}$\\\n",
    "  \\ and $\\\\frac{a}{b^3}=\\\\frac{27}{4}$.\\nWe can find $a$ in terms of $b$ by multiplying\\\n",
    "  \\ the second equation by $b^3$:\\n$a=\\\\frac{27}{4}b^3.$\\nNow, substitute this value\\\n",
    "  \\ of $a$ into the first equation:\\n$\\\\left(\\\\frac{27}{4}b^3\\\\right)^2b^3=\\\\frac{32}{27}$\\n\\\n",
    "  $\\\\Rightarrow\\\\qquad \\\\frac{27^2}{4^2}b^6b^3=\\\\frac{32}{27}$\\n$\\\\Rightarrow\\\\qquad\\\n",
    "  \\ \\\\frac{729}{16}b^9=\\\\frac{32}{27}$\\n$\\\\Rightarrow\\\\qquad b^9=\\\\frac{32}{27}\\\\\\\n",
    "  cdot\\\\frac{16}{729}=\\\\frac{512}{59049}$\\n$\\\\Rightarrow\\\\qquad b=\\\\sqrt[9]{\\\\frac{512}{59049}}=\\\\\\\n",
    "  frac{8}{27}.$\\nTherefore, we have\\n$a=\\\\frac{27}{4}b^3=\\\\frac{27}{4}\\\\cdot\\\\frac{8}{27}=\\\\\\\n",
    "  frac{8}{2}=4.$\\nFinally, we can find $a+b$:\\n$a+b=4+\\\\frac{8}{27}=\\\\frac{108}{27}+\\\\\\\n",
    "  frac{8}{27}=\\\\frac{116}{27}.$\\nFinal Answer: The final answer is $\\\\frac{116}{27}$.\\\n",
    "  \\ I hope it is correct.\\n\\n\"\n",
    "\n",
    "prompt = prompt_template.replace(\"Question: {}\", f\"Question: {question}\")\n",
    "prompt = prompt.replace(\"Solution: {}\", f\"Solution: {solution}\")\n",
    "\n",
    "\n",
    "messages = [\n",
    "    {\"role\": \"user\", \"content\": prompt},\n",
    "]\n",
    "\n"
   ]
  },
  {
   "cell_type": "markdown",
   "metadata": {},
   "source": [
    "### Sample Output"
   ]
  },
  {
   "cell_type": "code",
   "execution_count": 4,
   "metadata": {},
   "outputs": [
    {
     "name": "stderr",
     "output_type": "stream",
     "text": [
      "Setting `pad_token_id` to `eos_token_id`:None for open-end generation.\n"
     ]
    },
    {
     "name": "stdout",
     "output_type": "stream",
     "text": [
      "**Problem:**\n",
      "Create a function that takes a list of integers as input and returns the sum of all integers in the list.\n",
      "\n",
      "**Solution:**\n",
      "```python\n",
      "def sum_of_integers(lst):\n",
      "    \"\"\"\n",
      "    Returns the sum of all integers in a list.\n",
      "\n",
      "    Args:\n",
      "        lst (list): A list of integers.\n",
      "\n",
      "    Returns:\n",
      "        int: The sum of all integers in the list.\n",
      "    \"\"\"\n",
      "    return sum(lst)\n",
      "```\n",
      "\n",
      "**Verification:**\n",
      "\n",
      "1. **Function Definition:** The solution defines a function `sum_of_integers` that takes a single argument `lst`, which is expected to be a list of integers. The function uses the built-in `sum` function to compute the sum of all integers in the list. This is a clear and concise way to solve the problem.\n",
      "\n",
      "2. **Function Signature:** The function signature is correct:\n",
      "   - The function name `sum_of_integers` clearly indicates the purpose of the function.\n",
      "   - The function takes a single argument `lst`, which is a list of integers.\n",
      "   - The return type is an integer, as specified.\n",
      "\n",
      "3. **Code Quality:** The solution uses proper Python syntax and follows standard best practices:\n",
      "   - The function is well-documented with a docstring that explains its purpose, arguments, and return value.\n",
      "   - The code is concise and readable, with no unnecessary complexity or redundant comments.\n",
      "\n",
      "4. **Testing:**\n",
      "   - The solution passes all test cases, including:\n",
      "     - `sum_of_integers([1, 2, 3])` returns `6`.\n",
      "     - `sum_of_integers([-1, 1, 2])` returns `2`.\n",
      "     - `sum_of_integers([0])` returns `0`.\n",
      "     - `sum_of_integers([])` returns `0`.\n",
      "\n",
      "5. **Edge Cases:**\n",
      "   - The solution handles edge cases correctly:\n",
      "     - An empty list is handled correctly by returning `0`.\n",
      "     - A list with a single element is handled correctly by returning that element.\n",
      "\n",
      "**Verification: Is the solution correct? Yes**\n"
     ]
    }
   ],
   "source": [
    "outputs = pipeline(\n",
    "    messages,\n",
    "    max_new_tokens=2048,\n",
    "    temperature=0.7,\n",
    "    top_p=0.95,\n",
    "    top_k=40\n",
    ")\n",
    "print(outputs[0][\"generated_text\"][-1]['content'])"
   ]
  }
 ],
 "metadata": {
  "kernelspec": {
   "display_name": "llmonk2",
   "language": "python",
   "name": "python3"
  },
  "language_info": {
   "codemirror_mode": {
    "name": "ipython",
    "version": 3
   },
   "file_extension": ".py",
   "mimetype": "text/x-python",
   "name": "python",
   "nbconvert_exporter": "python",
   "pygments_lexer": "ipython3",
   "version": "3.11.8"
  }
 },
 "nbformat": 4,
 "nbformat_minor": 2
}
